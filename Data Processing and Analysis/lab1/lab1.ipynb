{
 "cells": [
  {
   "cell_type": "markdown",
   "metadata": {},
   "source": [
    "# Tablice:"
   ]
  },
  {
   "cell_type": "code",
   "execution_count": 2,
   "metadata": {},
   "outputs": [
    {
     "name": "stdout",
     "output_type": "stream",
     "text": [
      "[[ 1  2  3  4  5]\n",
      " [ 6  7  8  9 10]]\n",
      "[[ 1  2  3  4  5]\n",
      " [ 6  7  8  9 10]]\n"
     ]
    },
    {
     "data": {
      "text/plain": [
       "array([ 0,  5, 10, 15, 20, 25, 30, 35, 40, 45, 50, 55, 60, 65, 70, 75, 80,\n",
       "       85, 90, 95])"
      ]
     },
     "execution_count": 2,
     "metadata": {},
     "output_type": "execute_result"
    }
   ],
   "source": [
    "import numpy as np\n",
    "\n",
    "a = np.array([1, 2, 3, 4, 5, 6, 7])\n",
    "b = np.array([[1,2,3,4,5], [6,7,8,9,10]])\n",
    "print(b)\n",
    "np.transpose(b)\n",
    "print(b)\n",
    "np.linspace(0, 2, 10)\n",
    "np.arange(0, 100, 5)"
   ]
  },
  {
   "cell_type": "markdown",
   "metadata": {},
   "source": [
    "# Liczby losowe:"
   ]
  },
  {
   "cell_type": "code",
   "execution_count": 2,
   "metadata": {},
   "outputs": [
    {
     "name": "stdout",
     "output_type": "stream",
     "text": [
      "[-1.08 -0.64  0.3   1.63  0.36 -0.84  0.37 -0.53  0.49  1.34  1.56 -0.18\n",
      " -0.64 -0.48  1.   -0.71 -0.65 -0.15  0.14  1.89]\n",
      "[227 324 389 922  91 477 896 550 104 202 273  83 986 518 660 138 428 549\n",
      " 991 283 586 135 683 575 222 401 654 427  51 983 349 194 875 858 470 132\n",
      " 705 734 279 253 301  31 764 472 868 683 252 333 167 389 887 405 965 797\n",
      " 374 894 259 101 217 150 975 852 542 939 465 222 148 880 318 451 377 268\n",
      " 460 507 845  91 902 325 931 837 853 398 662 664 136 273 793 161 168 210\n",
      " 479 524  79 219 650 718 546 608 464 308]\n"
     ]
    },
    {
     "data": {
      "text/plain": [
       "array([[85, 80, 95, 11, 95],\n",
       "       [54, 79,  6,  5, 41],\n",
       "       [52, 93, 17, 68, 17],\n",
       "       [10, 35, 58, 81, 99],\n",
       "       [30, 31, 37, 37, 92]], dtype=int32)"
      ]
     },
     "execution_count": 2,
     "metadata": {},
     "output_type": "execute_result"
    }
   ],
   "source": [
    "a = np.random.normal(size=20)\n",
    "a = np.round(a, 2)\n",
    "print(a)\n",
    "\n",
    "a = np.random.randint(1, 1000, 100)\n",
    "print(a)\n",
    "\n",
    "np.zeros([3, 2])\n",
    "np.ones([3, 2])\n",
    "\n",
    "np.random.randint(1, 100, size=[5, 5], dtype=np.int32)\n"
   ]
  },
  {
   "cell_type": "markdown",
   "metadata": {},
   "source": [
    "# Zadanie liczby losowe:"
   ]
  },
  {
   "cell_type": "code",
   "execution_count": null,
   "metadata": {},
   "outputs": [
    {
     "name": "stdout",
     "output_type": "stream",
     "text": [
      "[2.84728545 7.10172986 5.7542717  4.97082273 5.0651026  2.78528379\n",
      " 4.39267949 4.35095825 5.66392488 8.22299665]\n",
      "[2 7 5 4 5 2 4 4 5 8]\n",
      "[3 7 6 5 5 3 4 4 6 8]\n"
     ]
    }
   ],
   "source": [
    "# a)\n",
    "a = np.random.uniform(0, 10, 10)\n",
    "# b)\n",
    "b = a.astype(int)\n",
    "# c)\n",
    "c = np.round(a).astype(int)\n",
    "print(a)\n",
    "print(b)\n",
    "print(c)"
   ]
  },
  {
   "cell_type": "markdown",
   "metadata": {},
   "source": [
    "# Selekcja danych:"
   ]
  },
  {
   "cell_type": "code",
   "execution_count": null,
   "metadata": {},
   "outputs": [
    {
     "name": "stdout",
     "output_type": "stream",
     "text": [
      "2\n",
      "10\n",
      "2 4\n",
      "[1 2 3 4 5]\n",
      "[1 6]\n",
      "[[58 53 53 19]\n",
      " [48 52 52 25]\n",
      " [87 55 36 83]\n",
      " [ 5 45 73 74]\n",
      " [65 81 18 97]\n",
      " [88 54 43 26]\n",
      " [52 87 70  8]\n",
      " [ 2 31 66 15]\n",
      " [17 13 34 49]\n",
      " [85 16 31 45]\n",
      " [85 21 77 15]\n",
      " [81 29 18 93]\n",
      " [ 9 77 84 13]\n",
      " [31 97 70 59]\n",
      " [50 56 14 94]\n",
      " [83 44 88 32]\n",
      " [30 80 85 37]\n",
      " [99 16 14 10]\n",
      " [76 22 21 19]\n",
      " [65 74 29  6]]\n"
     ]
    }
   ],
   "source": [
    "b=np.array([[1,2,3,4,5], [6,7,8,9,10]],dtype=np.int32)\n",
    "print(np.ndim(b))\n",
    "print(np.size(b))\n",
    "print(b[0,1], b[0,3])\n",
    "print(b[0,:])\n",
    "print(b[:,0])\n",
    "\n",
    "matrix = np.random.randint(0, 101, size=(20,7))\n",
    "print(matrix[:, :4])"
   ]
  },
  {
   "cell_type": "markdown",
   "metadata": {},
   "source": [
    "# Operacje matematyczne i logiczne:"
   ]
  },
  {
   "cell_type": "code",
   "execution_count": 23,
   "metadata": {},
   "outputs": [
    {
     "name": "stdout",
     "output_type": "stream",
     "text": [
      "[[11  6 11]\n",
      " [19  6  3]\n",
      " [ 9 10 10]]\n",
      "[[30  9 24]\n",
      " [90  8  2]\n",
      " [14  9 16]]\n",
      "[[0.83333333 1.         2.66666667]\n",
      " [1.11111111 0.5        0.5       ]\n",
      " [0.28571429 0.11111111 0.25      ]]\n",
      "[[     15625         27        512]\n",
      " [1000000000         16          1]\n",
      " [       128          1        256]]\n",
      "[[ True False  True]\n",
      " [ True False False]\n",
      " [False False False]]\n",
      "[[False  True False]\n",
      " [False  True  True]\n",
      " [ True  True  True]]\n",
      "9\n"
     ]
    }
   ],
   "source": [
    "a = np.random.randint(0, 11, size=(3, 3))\n",
    "b = np.random.randint(0, 11, size=(3, 3))\n",
    "\n",
    "c = a + b\n",
    "print(c)\n",
    "\n",
    "c = a * b\n",
    "print(c)\n",
    "\n",
    "c = a / b\n",
    "print(c)\n",
    "\n",
    "c = np.power(a, b)\n",
    "print(c)\n",
    "\n",
    "c = a >= 4\n",
    "print(c)\n",
    "\n",
    "c = np.logical_and(a >= 1, a <= 4)\n",
    "print(c)\n",
    "\n",
    "c = np.trace(a)\n",
    "print(c)"
   ]
  },
  {
   "cell_type": "markdown",
   "metadata": {},
   "source": [
    "# Dane statystyczne: "
   ]
  },
  {
   "cell_type": "code",
   "execution_count": null,
   "metadata": {},
   "outputs": [
    {
     "name": "stdout",
     "output_type": "stream",
     "text": [
      "[[4 2 0]\n",
      " [4 2 5]\n",
      " [8 7 1]]\n",
      "33\n",
      "0\n",
      "8\n",
      "2.5385910352879693\n",
      "[2.         3.66666667 5.33333333]\n",
      "[5.33333333 3.66666667 2.        ]\n"
     ]
    }
   ],
   "source": [
    "print(b)\n",
    "\n",
    "c = np.sum(b)\n",
    "print(c)\n",
    "\n",
    "c = np.min(b)\n",
    "print(c)\n",
    "\n",
    "c = np.max(b)\n",
    "print(c)\n",
    "\n",
    "c = np.std(b)\n",
    "print(c)\n",
    "\n",
    "c = np.mean(b, axis=1) # wiersze\n",
    "print(c)\n",
    "\n",
    "c = np.mean(b, axis=0) # kolumny\n",
    "print(c)"
   ]
  },
  {
   "cell_type": "markdown",
   "metadata": {},
   "source": [
    "# Rzutowanie wymiarów za pomocą shape lub resize:"
   ]
  },
  {
   "cell_type": "code",
   "execution_count": null,
   "metadata": {},
   "outputs": [
    {
     "name": "stdout",
     "output_type": "stream",
     "text": [
      "[ 0  1  2  3  4  5  6  7  8  9 10 11 12 13 14 15 16 17 18 19 20 21 22 23\n",
      " 24 25 26 27 28 29 30 31 32 33 34 35 36 37 38 39 40 41 42 43 44 45 46 47\n",
      " 48 49]\n",
      "[[ 0  1  2  3  4]\n",
      " [ 5  6  7  8  9]\n",
      " [10 11 12 13 14]\n",
      " [15 16 17 18 19]\n",
      " [20 21 22 23 24]\n",
      " [25 26 27 28 29]\n",
      " [30 31 32 33 34]\n",
      " [35 36 37 38 39]\n",
      " [40 41 42 43 44]\n",
      " [45 46 47 48 49]]\n",
      "[[ 0  1  2  3  4]\n",
      " [ 5  6  7  8  9]\n",
      " [10 11 12 13 14]\n",
      " [15 16 17 18 19]\n",
      " [20 21 22 23 24]\n",
      " [25 26 27 28 29]\n",
      " [30 31 32 33 34]\n",
      " [35 36 37 38 39]\n",
      " [40 41 42 43 44]\n",
      " [45 46 47 48 49]]\n",
      "[[0 1 2 3]\n",
      " [1 2 3 4]\n",
      " [2 3 4 5]\n",
      " [3 4 5 6]\n",
      " [4 5 6 7]]\n"
     ]
    }
   ],
   "source": [
    "tab = np.arange(50)\n",
    "print(tab)\n",
    "matrix_reshape = tab.reshape(10, 5)\n",
    "print(matrix_reshape)\n",
    "matrix_resize = np.resize(tab, (10, 5))\n",
    "print(matrix_resize)\n",
    "\n",
    "tab.ravel()\n",
    "\n",
    "tab1 = np.arange(5)\n",
    "tab2 = np.arange(4)\n",
    "\n",
    "result = tab1[:, np.newaxis] + tab2\n",
    "print(result)"
   ]
  },
  {
   "cell_type": "markdown",
   "metadata": {},
   "source": [
    "# Sortowanie danych:"
   ]
  },
  {
   "cell_type": "code",
   "execution_count": null,
   "metadata": {},
   "outputs": [
    {
     "name": "stdout",
     "output_type": "stream",
     "text": [
      "[[ 0.07161853 -0.09494228 -0.30829949 -0.77621007  0.91648071]\n",
      " [-0.84158007 -0.81921982 -1.24469818  0.79392507  0.70621166]\n",
      " [ 1.66517729 -0.96714535 -0.74554584 -2.36442425  2.00927763]\n",
      " [ 0.78835696  0.0135716   0.64834318 -0.05276638  0.62985501]\n",
      " [-0.74308266  0.59116078 -0.73445037 -2.06531858  0.92058714]]\n",
      "[[-0.77621007 -0.30829949 -0.09494228  0.07161853  0.91648071]\n",
      " [-1.24469818 -0.84158007 -0.81921982  0.70621166  0.79392507]\n",
      " [-2.36442425 -0.96714535 -0.74554584  1.66517729  2.00927763]\n",
      " [-0.05276638  0.0135716   0.62985501  0.64834318  0.78835696]\n",
      " [-2.06531858 -0.74308266 -0.73445037  0.59116078  0.92058714]]\n",
      "[[-0.84158007 -0.96714535 -1.24469818 -2.36442425  0.62985501]\n",
      " [-0.74308266 -0.81921982 -0.74554584 -2.06531858  0.70621166]\n",
      " [ 0.07161853 -0.09494228 -0.73445037 -0.77621007  0.91648071]\n",
      " [ 0.78835696  0.0135716  -0.30829949 -0.05276638  0.92058714]\n",
      " [ 1.66517729  0.59116078  0.64834318  0.79392507  2.00927763]]\n",
      "[['1' 'MZ' 'mazowieckie']\n",
      " ['2' 'ZP' 'zachodniopomorskie']\n",
      " ['3' 'ML' 'małopolskie']]\n",
      "[['3' 'ML' 'małopolskie']\n",
      " ['1' 'MZ' 'mazowieckie']\n",
      " ['2' 'ZP' 'zachodniopomorskie']]\n"
     ]
    }
   ],
   "source": [
    "a=np.random.randn(5,5)\n",
    "print(a)\n",
    "print(np.sort(a, axis=1)) # wiersze\n",
    "print(np.sort(a, axis=0)) # kolumny\n",
    "\n",
    "b=np.array([(1,'MZ','mazowieckie'),\n",
    "(2,'ZP','zachodniopomorskie'),\n",
    "(3,'ML','małopolskie')])\n",
    "\n",
    "matrix = np.array(b).reshape(3, 3)\n",
    "print(matrix)\n",
    "print(matrix[np.argsort(matrix[:, 1])])"
   ]
  },
  {
   "cell_type": "markdown",
   "metadata": {},
   "source": [
    "# Zadania podsumowujące:"
   ]
  },
  {
   "cell_type": "markdown",
   "metadata": {},
   "source": [
    "#### Zad 1"
   ]
  },
  {
   "cell_type": "code",
   "execution_count": 33,
   "metadata": {},
   "outputs": [
    {
     "name": "stdout",
     "output_type": "stream",
     "text": [
      "[[51 39  6 45 97]\n",
      " [67 35 13 84 90]\n",
      " [95 15 25 17 49]\n",
      " [37 37 90 66 13]\n",
      " [ 5 27 41 95 59]\n",
      " [16 36 88 54 45]\n",
      " [24 67  7 69 77]\n",
      " [35 58 23 32 12]\n",
      " [91 67 46 27 91]\n",
      " [ 8 26 14 64 93]]\n",
      "Suma głównej przekątnej: 236\n",
      "[51 35 25 66 59]\n"
     ]
    }
   ],
   "source": [
    "macierz = np.random.randint(100, size=(10, 5))\n",
    "print(macierz)\n",
    "\n",
    "print(\"Suma głównej przekątnej:\", np.trace(macierz))\n",
    "\n",
    "print(np.diag(macierz))"
   ]
  },
  {
   "cell_type": "markdown",
   "metadata": {},
   "source": [
    "#### Zad 2"
   ]
  },
  {
   "cell_type": "code",
   "execution_count": 43,
   "metadata": {},
   "outputs": [
    {
     "name": "stdout",
     "output_type": "stream",
     "text": [
      "[[-0.4667438   0.12587709  0.74898497 -0.06677163  0.05526145]\n",
      " [-0.1428503   0.03852559  0.22923224 -0.02043594  0.01691317]\n",
      " [-1.01004307  0.27240059  1.62081871 -0.14449516  0.11958691]\n",
      " [ 0.13758082 -0.03710445 -0.2207763   0.01968209 -0.01628927]\n",
      " [ 0.63713685 -0.17183074 -1.02241514  0.09114779 -0.07543562]]\n",
      "[[-0.4667438   0.12587709  0.74898497 -0.06677163  0.05526145]\n",
      " [-0.1428503   0.03852559  0.22923224 -0.02043594  0.01691317]\n",
      " [-1.01004307  0.27240059  1.62081871 -0.14449516  0.11958691]\n",
      " [ 0.13758082 -0.03710445 -0.2207763   0.01968209 -0.01628927]\n",
      " [ 0.63713685 -0.17183074 -1.02241514  0.09114779 -0.07543562]]\n"
     ]
    }
   ],
   "source": [
    "tab1 = np.random.normal(size=(5, 1))\n",
    "tab2 = np.random.normal(size=(1, 5))\n",
    "\n",
    "print(tab1 @ tab2) # macierzowo\n",
    "print(tab1 * tab2) # po indeksach"
   ]
  },
  {
   "cell_type": "markdown",
   "metadata": {},
   "source": [
    "#### Zad 3"
   ]
  },
  {
   "cell_type": "code",
   "execution_count": 45,
   "metadata": {},
   "outputs": [
    {
     "name": "stdout",
     "output_type": "stream",
     "text": [
      "[[108  51  65  96 150]\n",
      " [ 84 122 160 148 134]\n",
      " [ 79 127  75 169  13]\n",
      " [143 144  45 105   6]\n",
      " [ 89  79 154 113  95]]\n"
     ]
    }
   ],
   "source": [
    "tab1 = np.random.randint(1, 101, size=25)\n",
    "tab2 = np.random.randint(1, 101, size=25)\n",
    "tab1 = tab1.reshape(5, 5)\n",
    "tab2 = tab2.reshape(5, 5)\n",
    "\n",
    "print(tab1+tab2)"
   ]
  },
  {
   "cell_type": "markdown",
   "metadata": {},
   "source": [
    "#### Zad 4"
   ]
  },
  {
   "cell_type": "code",
   "execution_count": 67,
   "metadata": {},
   "outputs": [
    {
     "name": "stdout",
     "output_type": "stream",
     "text": [
      "[[ 66  13 142  49 135]\n",
      " [178  38  89 182  93]\n",
      " [118  86  54  62 120]\n",
      " [170  52  94 170 115]]\n"
     ]
    }
   ],
   "source": [
    "tab1 = np.random.randint(0, 101, size=(4, 5))\n",
    "tab2 = np.random.randint(0, 101, size=(5, 4))\n",
    "\n",
    "print(tab1 + tab2.T)"
   ]
  },
  {
   "cell_type": "markdown",
   "metadata": {},
   "source": [
    "#### Zad 5"
   ]
  },
  {
   "cell_type": "code",
   "execution_count": 68,
   "metadata": {},
   "outputs": [
    {
     "name": "stdout",
     "output_type": "stream",
     "text": [
      "[ 644 5824  198 3828]\n"
     ]
    }
   ],
   "source": [
    "print(tab1[:, 2]*tab2.T[:,3])"
   ]
  },
  {
   "cell_type": "markdown",
   "metadata": {},
   "source": [
    "#### Zad 6"
   ]
  },
  {
   "cell_type": "code",
   "execution_count": 65,
   "metadata": {},
   "outputs": [
    {
     "name": "stdout",
     "output_type": "stream",
     "text": [
      "Macierz 1.: średnia = -0.2609436842913712 odchylenie = 0.4689646063453448 wariancja = 0.21992780200464424\n",
      "Macierz 2.: średnia = 0.37546180106780597 odchylenie = 0.30287327798018043 wariancja = 0.09173222251445964\n"
     ]
    }
   ],
   "source": [
    "tab1 = np.random.normal(size=(3, 3))\n",
    "tab2 = np.random.uniform(size=(3, 3))\n",
    "\n",
    "print(\"Macierz 1.: średnia =\", np.average(tab1), \"odchylenie =\", np.std(tab1), \"wariancja =\", np.var(tab1))\n",
    "print(\"Macierz 2.: średnia =\", np.average(tab2), \"odchylenie =\", np.std(tab2), \"wariancja =\", np.var(tab2))"
   ]
  },
  {
   "cell_type": "markdown",
   "metadata": {},
   "source": [
    "#### Zad 7"
   ]
  },
  {
   "cell_type": "code",
   "execution_count": 64,
   "metadata": {},
   "outputs": [
    {
     "name": "stdout",
     "output_type": "stream",
     "text": [
      "[[  0  10  22]\n",
      " [ 36  52  70]\n",
      " [ 90 112 136]]\n",
      "[[ 42  45  48]\n",
      " [150 162 174]\n",
      " [258 279 300]]\n"
     ]
    }
   ],
   "source": [
    "a = np.arange(9).reshape(3, 3)\n",
    "b = np.arange(9, 18).reshape(3, 3)\n",
    "\n",
    "print(a*b) # mnożenie po indeksach\n",
    "print(np.dot(a, b)) # mnożenie macierzowe"
   ]
  },
  {
   "cell_type": "markdown",
   "metadata": {},
   "source": [
    "#### Zad 8"
   ]
  },
  {
   "cell_type": "code",
   "execution_count": 63,
   "metadata": {},
   "outputs": [
    {
     "name": "stdout",
     "output_type": "stream",
     "text": [
      "[[ 0  1  2  3  4  5  6  7  8  9]\n",
      " [10 11 12 13 14 15 16 17 18 19]\n",
      " [20 21 22 23 24 25 26 27 28 29]\n",
      " [30 31 32 33 34 35 36 37 38 39]\n",
      " [40 41 42 43 44 45 46 47 48 49]]\n",
      "[[ 0  1  2  3  4]\n",
      " [10 11 12 13 14]\n",
      " [20 21 22 23 24]]\n"
     ]
    }
   ],
   "source": [
    "a = np.arange(50).reshape(5, 10)\n",
    "print(a)\n",
    "print(np.lib.stride_tricks.as_strided(a, shape=(3, 5), strides=a.strides))"
   ]
  },
  {
   "cell_type": "markdown",
   "metadata": {},
   "source": [
    "#### Zad 9"
   ]
  },
  {
   "cell_type": "code",
   "execution_count": 4,
   "metadata": {},
   "outputs": [
    {
     "name": "stdout",
     "output_type": "stream",
     "text": [
      "[[ 0  1  2]\n",
      " [ 3  4  5]\n",
      " [ 6  7  8]\n",
      " [ 9 10 11]\n",
      " [12 13 14]\n",
      " [15 16 17]]\n",
      "[[ 0  1  2  9 10 11]\n",
      " [ 3  4  5 12 13 14]\n",
      " [ 6  7  8 15 16 17]]\n"
     ]
    }
   ],
   "source": [
    "a = np.arange(9).reshape(3, 3)\n",
    "b = np.arange(9, 18).reshape(3, 3)\n",
    "\n",
    "print(np.vstack((a, b))) # macierz pod macierzą\n",
    "print(np.hstack((a, b))) # macierz obok macierzy"
   ]
  },
  {
   "cell_type": "markdown",
   "metadata": {},
   "source": [
    "#### Zad 10"
   ]
  },
  {
   "cell_type": "code",
   "execution_count": 3,
   "metadata": {},
   "outputs": [
    {
     "name": "stdout",
     "output_type": "stream",
     "text": [
      "8\n",
      "11\n",
      "20\n",
      "23\n"
     ]
    }
   ],
   "source": [
    "from numpy.lib.stride_tricks import as_strided\n",
    "\n",
    "a = np.arange(24).reshape(4, 6)\n",
    "\n",
    "print(np.max(as_strided(a, shape=(2, 3), strides=a.strides)))\n",
    "print(np.max(as_strided(a[0][3:6], shape=(2, 3), strides=a.strides)))\n",
    "print(np.max(as_strided(a[2], shape=(2, 3), strides=a.strides)))\n",
    "print(np.max(as_strided(a[2][3:6], shape=(2, 3), strides=a.strides)))"
   ]
  }
 ],
 "metadata": {
  "kernelspec": {
   "display_name": "Python 3",
   "language": "python",
   "name": "python3"
  },
  "language_info": {
   "codemirror_mode": {
    "name": "ipython",
    "version": 3
   },
   "file_extension": ".py",
   "mimetype": "text/x-python",
   "name": "python",
   "nbconvert_exporter": "python",
   "pygments_lexer": "ipython3",
   "version": "3.13.2"
  }
 },
 "nbformat": 4,
 "nbformat_minor": 2
}
