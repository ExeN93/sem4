{
 "cells": [
  {
   "cell_type": "code",
   "execution_count": 1,
   "metadata": {},
   "outputs": [],
   "source": [
    "import pandas as pd\n",
    "import numpy as np"
   ]
  },
  {
   "cell_type": "markdown",
   "metadata": {},
   "source": [
    "# Manipulowanie danymi"
   ]
  },
  {
   "cell_type": "code",
   "execution_count": null,
   "metadata": {},
   "outputs": [
    {
     "data": {
      "text/html": [
       "<div>\n",
       "<style scoped>\n",
       "    .dataframe tbody tr th:only-of-type {\n",
       "        vertical-align: middle;\n",
       "    }\n",
       "\n",
       "    .dataframe tbody tr th {\n",
       "        vertical-align: top;\n",
       "    }\n",
       "\n",
       "    .dataframe thead th {\n",
       "        text-align: right;\n",
       "    }\n",
       "</style>\n",
       "<table border=\"1\" class=\"dataframe\">\n",
       "  <thead>\n",
       "    <tr style=\"text-align: right;\">\n",
       "      <th></th>\n",
       "      <th>A</th>\n",
       "      <th>B</th>\n",
       "      <th>C</th>\n",
       "    </tr>\n",
       "  </thead>\n",
       "  <tbody>\n",
       "    <tr>\n",
       "      <th>2020-03-01</th>\n",
       "      <td>0.990339</td>\n",
       "      <td>0.216897</td>\n",
       "      <td>0.663078</td>\n",
       "    </tr>\n",
       "    <tr>\n",
       "      <th>2020-03-02</th>\n",
       "      <td>0.263322</td>\n",
       "      <td>0.020651</td>\n",
       "      <td>0.758379</td>\n",
       "    </tr>\n",
       "    <tr>\n",
       "      <th>2020-03-03</th>\n",
       "      <td>0.320017</td>\n",
       "      <td>0.383464</td>\n",
       "      <td>0.588317</td>\n",
       "    </tr>\n",
       "    <tr>\n",
       "      <th>2020-03-04</th>\n",
       "      <td>0.831048</td>\n",
       "      <td>0.628982</td>\n",
       "      <td>0.872651</td>\n",
       "    </tr>\n",
       "    <tr>\n",
       "      <th>2020-03-05</th>\n",
       "      <td>0.273542</td>\n",
       "      <td>0.798047</td>\n",
       "      <td>0.185636</td>\n",
       "    </tr>\n",
       "  </tbody>\n",
       "</table>\n",
       "</div>"
      ],
      "text/plain": [
       "                   A         B         C\n",
       "2020-03-01  0.990339  0.216897  0.663078\n",
       "2020-03-02  0.263322  0.020651  0.758379\n",
       "2020-03-03  0.320017  0.383464  0.588317\n",
       "2020-03-04  0.831048  0.628982  0.872651\n",
       "2020-03-05  0.273542  0.798047  0.185636"
      ]
     },
     "metadata": {},
     "output_type": "display_data"
    }
   ],
   "source": [
    "df = pd.DataFrame(np.random.uniform(0,1,(5,3)))\n",
    "df.columns = ['A', 'B', 'C']\n",
    "df.index=(pd.date_range(start='2020-03-01', end='2020-03-05'))\n",
    "display(df)"
   ]
  },
  {
   "cell_type": "code",
   "execution_count": 2,
   "metadata": {},
   "outputs": [
    {
     "data": {
      "text/html": [
       "<div>\n",
       "<style scoped>\n",
       "    .dataframe tbody tr th:only-of-type {\n",
       "        vertical-align: middle;\n",
       "    }\n",
       "\n",
       "    .dataframe tbody tr th {\n",
       "        vertical-align: top;\n",
       "    }\n",
       "\n",
       "    .dataframe thead th {\n",
       "        text-align: right;\n",
       "    }\n",
       "</style>\n",
       "<table border=\"1\" class=\"dataframe\">\n",
       "  <thead>\n",
       "    <tr style=\"text-align: right;\">\n",
       "      <th></th>\n",
       "      <th>A</th>\n",
       "      <th>B</th>\n",
       "      <th>C</th>\n",
       "    </tr>\n",
       "    <tr>\n",
       "      <th>id</th>\n",
       "      <th></th>\n",
       "      <th></th>\n",
       "      <th></th>\n",
       "    </tr>\n",
       "  </thead>\n",
       "  <tbody>\n",
       "    <tr>\n",
       "      <th>1</th>\n",
       "      <td>0.249064</td>\n",
       "      <td>0.545347</td>\n",
       "      <td>0.242221</td>\n",
       "    </tr>\n",
       "    <tr>\n",
       "      <th>2</th>\n",
       "      <td>0.155173</td>\n",
       "      <td>0.679641</td>\n",
       "      <td>0.629211</td>\n",
       "    </tr>\n",
       "    <tr>\n",
       "      <th>3</th>\n",
       "      <td>0.329436</td>\n",
       "      <td>0.870615</td>\n",
       "      <td>0.786192</td>\n",
       "    </tr>\n",
       "  </tbody>\n",
       "</table>\n",
       "</div>"
      ],
      "text/plain": [
       "           A         B         C\n",
       "id                              \n",
       "1   0.249064  0.545347  0.242221\n",
       "2   0.155173  0.679641  0.629211\n",
       "3   0.329436  0.870615  0.786192"
      ]
     },
     "metadata": {},
     "output_type": "display_data"
    },
    {
     "data": {
      "text/html": [
       "<div>\n",
       "<style scoped>\n",
       "    .dataframe tbody tr th:only-of-type {\n",
       "        vertical-align: middle;\n",
       "    }\n",
       "\n",
       "    .dataframe tbody tr th {\n",
       "        vertical-align: top;\n",
       "    }\n",
       "\n",
       "    .dataframe thead th {\n",
       "        text-align: right;\n",
       "    }\n",
       "</style>\n",
       "<table border=\"1\" class=\"dataframe\">\n",
       "  <thead>\n",
       "    <tr style=\"text-align: right;\">\n",
       "      <th></th>\n",
       "      <th>A</th>\n",
       "      <th>B</th>\n",
       "      <th>C</th>\n",
       "    </tr>\n",
       "    <tr>\n",
       "      <th>id</th>\n",
       "      <th></th>\n",
       "      <th></th>\n",
       "      <th></th>\n",
       "    </tr>\n",
       "  </thead>\n",
       "  <tbody>\n",
       "    <tr>\n",
       "      <th>18</th>\n",
       "      <td>0.908261</td>\n",
       "      <td>0.706026</td>\n",
       "      <td>0.413502</td>\n",
       "    </tr>\n",
       "    <tr>\n",
       "      <th>19</th>\n",
       "      <td>0.180848</td>\n",
       "      <td>0.536802</td>\n",
       "      <td>0.086038</td>\n",
       "    </tr>\n",
       "    <tr>\n",
       "      <th>20</th>\n",
       "      <td>0.484865</td>\n",
       "      <td>0.045155</td>\n",
       "      <td>0.226481</td>\n",
       "    </tr>\n",
       "  </tbody>\n",
       "</table>\n",
       "</div>"
      ],
      "text/plain": [
       "           A         B         C\n",
       "id                              \n",
       "18  0.908261  0.706026  0.413502\n",
       "19  0.180848  0.536802  0.086038\n",
       "20  0.484865  0.045155  0.226481"
      ]
     },
     "metadata": {},
     "output_type": "display_data"
    },
    {
     "data": {
      "text/plain": [
       "'id'"
      ]
     },
     "metadata": {},
     "output_type": "display_data"
    },
    {
     "data": {
      "text/plain": [
       "['A', 'B', 'C']"
      ]
     },
     "metadata": {},
     "output_type": "display_data"
    },
    {
     "data": {
      "text/plain": [
       "'0.249064 0.545347 0.242221\\n0.155173 0.679641 0.629211\\n0.329436 0.870615 0.786192\\n0.242955 0.613102 0.987182\\n0.111734 0.369920 0.315780\\n0.898743 0.068645 0.035214\\n0.763415 0.909592 0.199312\\n0.819948 0.283260 0.985310\\n0.878211 0.589097 0.603394\\n0.452934 0.406784 0.495354\\n0.114413 0.842871 0.776036\\n0.224878 0.433505 0.325316\\n0.907105 0.803197 0.794139\\n0.853982 0.921458 0.942438\\n0.887128 0.227068 0.422018\\n0.473524 0.471215 0.870263\\n0.949243 0.653163 0.766754\\n0.908261 0.706026 0.413502\\n0.180848 0.536802 0.086038\\n0.484865 0.045155 0.226481'"
      ]
     },
     "metadata": {},
     "output_type": "display_data"
    },
    {
     "data": {
      "text/html": [
       "<div>\n",
       "<style scoped>\n",
       "    .dataframe tbody tr th:only-of-type {\n",
       "        vertical-align: middle;\n",
       "    }\n",
       "\n",
       "    .dataframe tbody tr th {\n",
       "        vertical-align: top;\n",
       "    }\n",
       "\n",
       "    .dataframe thead th {\n",
       "        text-align: right;\n",
       "    }\n",
       "</style>\n",
       "<table border=\"1\" class=\"dataframe\">\n",
       "  <thead>\n",
       "    <tr style=\"text-align: right;\">\n",
       "      <th></th>\n",
       "      <th>A</th>\n",
       "      <th>B</th>\n",
       "      <th>C</th>\n",
       "    </tr>\n",
       "    <tr>\n",
       "      <th>id</th>\n",
       "      <th></th>\n",
       "      <th></th>\n",
       "      <th></th>\n",
       "    </tr>\n",
       "  </thead>\n",
       "  <tbody>\n",
       "    <tr>\n",
       "      <th>18</th>\n",
       "      <td>0.908261</td>\n",
       "      <td>0.706026</td>\n",
       "      <td>0.413502</td>\n",
       "    </tr>\n",
       "    <tr>\n",
       "      <th>10</th>\n",
       "      <td>0.452934</td>\n",
       "      <td>0.406784</td>\n",
       "      <td>0.495354</td>\n",
       "    </tr>\n",
       "    <tr>\n",
       "      <th>14</th>\n",
       "      <td>0.853982</td>\n",
       "      <td>0.921458</td>\n",
       "      <td>0.942438</td>\n",
       "    </tr>\n",
       "    <tr>\n",
       "      <th>13</th>\n",
       "      <td>0.907105</td>\n",
       "      <td>0.803197</td>\n",
       "      <td>0.794139</td>\n",
       "    </tr>\n",
       "    <tr>\n",
       "      <th>15</th>\n",
       "      <td>0.887128</td>\n",
       "      <td>0.227068</td>\n",
       "      <td>0.422018</td>\n",
       "    </tr>\n",
       "  </tbody>\n",
       "</table>\n",
       "</div>"
      ],
      "text/plain": [
       "           A         B         C\n",
       "id                              \n",
       "18  0.908261  0.706026  0.413502\n",
       "10  0.452934  0.406784  0.495354\n",
       "14  0.853982  0.921458  0.942438\n",
       "13  0.907105  0.803197  0.794139\n",
       "15  0.887128  0.227068  0.422018"
      ]
     },
     "metadata": {},
     "output_type": "display_data"
    },
    {
     "name": "stdout",
     "output_type": "stream",
     "text": [
      "id\n",
      "1     0.249064\n",
      "2     0.155173\n",
      "3     0.329436\n",
      "4     0.242955\n",
      "5     0.111734\n",
      "6     0.898743\n",
      "7     0.763415\n",
      "8     0.819948\n",
      "9     0.878211\n",
      "10    0.452934\n",
      "11    0.114413\n",
      "12    0.224878\n",
      "13    0.907105\n",
      "14    0.853982\n",
      "15    0.887128\n",
      "16    0.473524\n",
      "17    0.949243\n",
      "18    0.908261\n",
      "19    0.180848\n",
      "20    0.484865\n",
      "Name: A, dtype: float64\n",
      "           A         B\n",
      "id                    \n",
      "1   0.249064  0.545347\n",
      "2   0.155173  0.679641\n",
      "3   0.329436  0.870615\n",
      "4   0.242955  0.613102\n",
      "5   0.111734  0.369920\n",
      "6   0.898743  0.068645\n",
      "7   0.763415  0.909592\n",
      "8   0.819948  0.283260\n",
      "9   0.878211  0.589097\n",
      "10  0.452934  0.406784\n",
      "11  0.114413  0.842871\n",
      "12  0.224878  0.433505\n",
      "13  0.907105  0.803197\n",
      "14  0.853982  0.921458\n",
      "15  0.887128  0.227068\n",
      "16  0.473524  0.471215\n",
      "17  0.949243  0.653163\n",
      "18  0.908261  0.706026\n",
      "19  0.180848  0.536802\n",
      "20  0.484865  0.045155\n",
      "A    0.111734\n",
      "B    0.369920\n",
      "C    0.315780\n",
      "Name: 5, dtype: float64\n",
      "           B         C\n",
      "id                    \n",
      "1   0.545347  0.242221\n",
      "6   0.068645  0.035214\n",
      "7   0.909592  0.199312\n",
      "8   0.283260  0.985310\n"
     ]
    }
   ],
   "source": [
    "df = pd.DataFrame(np.random.uniform(0,1,(20,3)))\n",
    "df.columns = ['A', 'B', 'C']\n",
    "df.index = pd.RangeIndex(1,21)\n",
    "df.index.name = 'id'\n",
    "\n",
    "display(df.iloc[0:3])\n",
    "display(df.iloc[17::])\n",
    "display(df.index.name)\n",
    "display(list(df.columns))\n",
    "display(df.to_string(index=False, header=False))\n",
    "display(df.sample(5))\n",
    "print(df['A'])\n",
    "print(df[['A','B']])\n",
    "print(df.iloc[4])\n",
    "print(df.iloc[[0, 5, 6, 7], [1, 2]])"
   ]
  },
  {
   "cell_type": "markdown",
   "metadata": {},
   "source": [
    "# Funkcja 'describe'"
   ]
  },
  {
   "cell_type": "code",
   "execution_count": 16,
   "metadata": {},
   "outputs": [
    {
     "data": {
      "text/html": [
       "<div>\n",
       "<style scoped>\n",
       "    .dataframe tbody tr th:only-of-type {\n",
       "        vertical-align: middle;\n",
       "    }\n",
       "\n",
       "    .dataframe tbody tr th {\n",
       "        vertical-align: top;\n",
       "    }\n",
       "\n",
       "    .dataframe thead th {\n",
       "        text-align: right;\n",
       "    }\n",
       "</style>\n",
       "<table border=\"1\" class=\"dataframe\">\n",
       "  <thead>\n",
       "    <tr style=\"text-align: right;\">\n",
       "      <th></th>\n",
       "      <th>0</th>\n",
       "      <th>1</th>\n",
       "      <th>2</th>\n",
       "    </tr>\n",
       "  </thead>\n",
       "  <tbody>\n",
       "    <tr>\n",
       "      <th>0</th>\n",
       "      <td>True</td>\n",
       "      <td>False</td>\n",
       "      <td>True</td>\n",
       "    </tr>\n",
       "    <tr>\n",
       "      <th>1</th>\n",
       "      <td>True</td>\n",
       "      <td>True</td>\n",
       "      <td>False</td>\n",
       "    </tr>\n",
       "    <tr>\n",
       "      <th>2</th>\n",
       "      <td>False</td>\n",
       "      <td>True</td>\n",
       "      <td>False</td>\n",
       "    </tr>\n",
       "    <tr>\n",
       "      <th>3</th>\n",
       "      <td>True</td>\n",
       "      <td>False</td>\n",
       "      <td>False</td>\n",
       "    </tr>\n",
       "    <tr>\n",
       "      <th>4</th>\n",
       "      <td>True</td>\n",
       "      <td>True</td>\n",
       "      <td>False</td>\n",
       "    </tr>\n",
       "  </tbody>\n",
       "</table>\n",
       "</div>"
      ],
      "text/plain": [
       "       0      1      2\n",
       "0   True  False   True\n",
       "1   True   True  False\n",
       "2  False   True  False\n",
       "3   True  False  False\n",
       "4   True   True  False"
      ]
     },
     "metadata": {},
     "output_type": "display_data"
    },
    {
     "data": {
      "text/html": [
       "<div>\n",
       "<style scoped>\n",
       "    .dataframe tbody tr th:only-of-type {\n",
       "        vertical-align: middle;\n",
       "    }\n",
       "\n",
       "    .dataframe tbody tr th {\n",
       "        vertical-align: top;\n",
       "    }\n",
       "\n",
       "    .dataframe thead th {\n",
       "        text-align: right;\n",
       "    }\n",
       "</style>\n",
       "<table border=\"1\" class=\"dataframe\">\n",
       "  <thead>\n",
       "    <tr style=\"text-align: right;\">\n",
       "      <th></th>\n",
       "      <th>0</th>\n",
       "      <th>1</th>\n",
       "      <th>2</th>\n",
       "    </tr>\n",
       "  </thead>\n",
       "  <tbody>\n",
       "    <tr>\n",
       "      <th>0</th>\n",
       "      <td>0.735770</td>\n",
       "      <td>NaN</td>\n",
       "      <td>0.57295</td>\n",
       "    </tr>\n",
       "    <tr>\n",
       "      <th>1</th>\n",
       "      <td>0.788225</td>\n",
       "      <td>0.939717</td>\n",
       "      <td>NaN</td>\n",
       "    </tr>\n",
       "    <tr>\n",
       "      <th>2</th>\n",
       "      <td>NaN</td>\n",
       "      <td>0.982077</td>\n",
       "      <td>NaN</td>\n",
       "    </tr>\n",
       "    <tr>\n",
       "      <th>3</th>\n",
       "      <td>0.928069</td>\n",
       "      <td>NaN</td>\n",
       "      <td>NaN</td>\n",
       "    </tr>\n",
       "    <tr>\n",
       "      <th>4</th>\n",
       "      <td>0.991112</td>\n",
       "      <td>0.965584</td>\n",
       "      <td>NaN</td>\n",
       "    </tr>\n",
       "  </tbody>\n",
       "</table>\n",
       "</div>"
      ],
      "text/plain": [
       "          0         1        2\n",
       "0  0.735770       NaN  0.57295\n",
       "1  0.788225  0.939717      NaN\n",
       "2       NaN  0.982077      NaN\n",
       "3  0.928069       NaN      NaN\n",
       "4  0.991112  0.965584      NaN"
      ]
     },
     "metadata": {},
     "output_type": "display_data"
    },
    {
     "data": {
      "text/plain": [
       "0    0.735770\n",
       "1    0.788225\n",
       "3    0.928069\n",
       "4    0.991112\n",
       "Name: 0, dtype: float64"
      ]
     },
     "metadata": {},
     "output_type": "display_data"
    },
    {
     "data": {
      "text/plain": [
       "0    0.614015\n",
       "1    0.230381\n",
       "2   -0.301225\n",
       "dtype: float64"
      ]
     },
     "metadata": {},
     "output_type": "display_data"
    },
    {
     "data": {
      "text/plain": [
       "0    0.135789\n",
       "1    0.330671\n",
       "2    0.053172\n",
       "3   -0.017453\n",
       "4    0.403104\n",
       "dtype: float64"
      ]
     },
     "metadata": {},
     "output_type": "display_data"
    }
   ],
   "source": [
    "df = pd.DataFrame(np.random.uniform(-1,1,(5,3)))\n",
    "display(df.gt(0))\n",
    "display(df[df.gt(0)])\n",
    "display(df.loc[df[0].gt(0), 0])\n",
    "display(df.mean())\n",
    "display(df.mean(axis=1))"
   ]
  },
  {
   "cell_type": "markdown",
   "metadata": {},
   "source": [
    "# Funkcja 'concat'"
   ]
  },
  {
   "cell_type": "code",
   "execution_count": 17,
   "metadata": {},
   "outputs": [
    {
     "data": {
      "text/html": [
       "<div>\n",
       "<style scoped>\n",
       "    .dataframe tbody tr th:only-of-type {\n",
       "        vertical-align: middle;\n",
       "    }\n",
       "\n",
       "    .dataframe tbody tr th {\n",
       "        vertical-align: top;\n",
       "    }\n",
       "\n",
       "    .dataframe thead th {\n",
       "        text-align: right;\n",
       "    }\n",
       "</style>\n",
       "<table border=\"1\" class=\"dataframe\">\n",
       "  <thead>\n",
       "    <tr style=\"text-align: right;\">\n",
       "      <th></th>\n",
       "      <th>0</th>\n",
       "      <th>1</th>\n",
       "      <th>2</th>\n",
       "    </tr>\n",
       "  </thead>\n",
       "  <tbody>\n",
       "    <tr>\n",
       "      <th>0</th>\n",
       "      <td>0.300147</td>\n",
       "      <td>0.437640</td>\n",
       "      <td>0.381391</td>\n",
       "    </tr>\n",
       "    <tr>\n",
       "      <th>1</th>\n",
       "      <td>0.549785</td>\n",
       "      <td>0.700355</td>\n",
       "      <td>0.615305</td>\n",
       "    </tr>\n",
       "    <tr>\n",
       "      <th>2</th>\n",
       "      <td>0.434720</td>\n",
       "      <td>0.085812</td>\n",
       "      <td>0.577521</td>\n",
       "    </tr>\n",
       "    <tr>\n",
       "      <th>3</th>\n",
       "      <td>0.115736</td>\n",
       "      <td>0.936426</td>\n",
       "      <td>0.292639</td>\n",
       "    </tr>\n",
       "    <tr>\n",
       "      <th>4</th>\n",
       "      <td>0.938789</td>\n",
       "      <td>0.433193</td>\n",
       "      <td>0.040006</td>\n",
       "    </tr>\n",
       "    <tr>\n",
       "      <th>0</th>\n",
       "      <td>0.101643</td>\n",
       "      <td>0.627571</td>\n",
       "      <td>0.607881</td>\n",
       "    </tr>\n",
       "    <tr>\n",
       "      <th>1</th>\n",
       "      <td>0.002001</td>\n",
       "      <td>0.232415</td>\n",
       "      <td>0.600828</td>\n",
       "    </tr>\n",
       "    <tr>\n",
       "      <th>2</th>\n",
       "      <td>0.569839</td>\n",
       "      <td>0.776266</td>\n",
       "      <td>0.653593</td>\n",
       "    </tr>\n",
       "    <tr>\n",
       "      <th>3</th>\n",
       "      <td>0.793836</td>\n",
       "      <td>0.734201</td>\n",
       "      <td>0.765900</td>\n",
       "    </tr>\n",
       "    <tr>\n",
       "      <th>4</th>\n",
       "      <td>0.398405</td>\n",
       "      <td>0.039756</td>\n",
       "      <td>0.102380</td>\n",
       "    </tr>\n",
       "  </tbody>\n",
       "</table>\n",
       "</div>"
      ],
      "text/plain": [
       "          0         1         2\n",
       "0  0.300147  0.437640  0.381391\n",
       "1  0.549785  0.700355  0.615305\n",
       "2  0.434720  0.085812  0.577521\n",
       "3  0.115736  0.936426  0.292639\n",
       "4  0.938789  0.433193  0.040006\n",
       "0  0.101643  0.627571  0.607881\n",
       "1  0.002001  0.232415  0.600828\n",
       "2  0.569839  0.776266  0.653593\n",
       "3  0.793836  0.734201  0.765900\n",
       "4  0.398405  0.039756  0.102380"
      ]
     },
     "metadata": {},
     "output_type": "display_data"
    }
   ],
   "source": [
    "df1 = pd.DataFrame(np.random.uniform(0,1,(5,3)))\n",
    "df2 = pd.DataFrame(np.random.uniform(0,1,(5,3)))\n",
    "display(pd.concat([df1, df2]))"
   ]
  },
  {
   "cell_type": "markdown",
   "metadata": {},
   "source": [
    "# Sortowanie"
   ]
  },
  {
   "cell_type": "code",
   "execution_count": 24,
   "metadata": {},
   "outputs": [
    {
     "name": "stdout",
     "output_type": "stream",
     "text": [
      "    x  y\n",
      "id      \n",
      "0   1  a\n",
      "1   2  b\n",
      "2   3  a\n",
      "3   4  b\n",
      "4   5  b\n",
      "    x  y\n",
      "id      \n",
      "0   1  a\n",
      "1   2  b\n",
      "2   3  a\n",
      "3   4  b\n",
      "4   5  b\n",
      "    x  y\n",
      "id      \n",
      "1   2  b\n",
      "3   4  b\n",
      "4   5  b\n",
      "0   1  a\n",
      "2   3  a\n"
     ]
    }
   ],
   "source": [
    "df = pd.DataFrame({\"x\": [1, 2, 3, 4, 5],\n",
    "                  \"y\": ['a', 'b', 'a', 'b', 'b']},\n",
    "                  index=np.arange(5))\n",
    "df.index.name='id'\n",
    "print(df)\n",
    "print(df.sort_index())\n",
    "print(df.sort_values(by='y', ascending=False))"
   ]
  },
  {
   "cell_type": "markdown",
   "metadata": {},
   "source": [
    "# Grupowanie danych (prześledź działania)"
   ]
  },
  {
   "cell_type": "code",
   "execution_count": 26,
   "metadata": {},
   "outputs": [
    {
     "name": "stdout",
     "output_type": "stream",
     "text": [
      "   Day   Fruit  Pound  Profit\n",
      "0  Mon   Apple     10      20\n",
      "1  Tue   Apple     15      30\n",
      "2  Mon  Banana     50      25\n",
      "3  Tue  Banana     40      20\n",
      "4  Mon   Apple      5      10\n",
      "                Fruit  Pound  Profit\n",
      "Day                                 \n",
      "Mon  AppleBananaApple     65      55\n",
      "Tue       AppleBanana     55      50\n",
      "            Pound  Profit\n",
      "Day Fruit                \n",
      "Mon Apple      15      30\n",
      "    Banana     50      25\n",
      "Tue Apple      15      30\n",
      "    Banana     40      20\n"
     ]
    }
   ],
   "source": [
    "slownik = {'Day': ['Mon', 'Tue', 'Mon', 'Tue', 'Mon'], 'Fruit': ['Apple',\n",
    "'Apple', 'Banana', 'Banana', 'Apple'], 'Pound': [10, 15, 50, 40, 5], 'Profit':[20, 30, 25, 20, 10]}\n",
    "df3 = pd.DataFrame(slownik)\n",
    "print(df3)\n",
    "print(df3.groupby('Day').sum())\n",
    "print(df3.groupby(['Day','Fruit']).sum())"
   ]
  },
  {
   "cell_type": "markdown",
   "metadata": {},
   "source": [
    "# Wypełnianie danych"
   ]
  },
  {
   "cell_type": "code",
   "execution_count": 40,
   "metadata": {},
   "outputs": [
    {
     "name": "stdout",
     "output_type": "stream",
     "text": [
      "           A         B         C\n",
      "id                              \n",
      "0   0.698021 -0.885706  0.273551\n",
      "1   1.615637 -0.064033  0.292035\n",
      "2  -0.375468 -0.072198 -1.261293\n",
      "3  -0.105001 -1.379181 -1.437214\n",
      "4  -0.839081  0.271706 -1.368260\n",
      "5   0.404616  0.884423  1.255653\n",
      "6  -0.035171 -0.528808  1.813648\n",
      "7  -0.498200 -0.387607 -0.497347\n",
      "8  -0.200880 -1.116605  0.225847\n",
      "9  -1.339686  3.526996  0.384164\n",
      "10  1.356386 -0.884188  0.778762\n",
      "11 -0.803298  0.990689 -0.075788\n",
      "12 -0.885019  0.387035  1.651333\n",
      "13  0.455295  1.258131 -0.874296\n",
      "14 -0.232655 -1.544953 -0.784982\n",
      "15 -0.340725 -0.385854 -0.482818\n",
      "16 -0.365916 -0.321263 -0.212684\n",
      "17 -1.058076 -1.575834 -0.223228\n",
      "18  0.322423  0.637459  1.090900\n",
      "19  0.649665  0.347963  1.348072\n"
     ]
    }
   ],
   "source": [
    "df=pd.DataFrame(np.random.randn(20, 3), index=np.arange(20), columns=['A','B','C'])\n",
    "df.index.name='id'\n",
    "print(df)"
   ]
  },
  {
   "cell_type": "code",
   "execution_count": null,
   "metadata": {},
   "outputs": [
    {
     "name": "stdout",
     "output_type": "stream",
     "text": [
      "           A  B          C\n",
      "id                        \n",
      "0   0.569168  1   0.125204\n",
      "1   0.189071  1  10.000000\n",
      "2   0.686782  1   1.131891\n",
      "3   2.044257  1   0.936258\n",
      "4   0.332845  1   0.576985\n",
      "5   1.529919  1   1.047011\n",
      "6   1.340760  1   0.435995\n",
      "7   1.244187  1   2.530526\n",
      "8   0.488487  1   1.350970\n",
      "9   1.304671  1   0.053899\n",
      "10  1.109617  1   0.920657\n",
      "11  1.000795  1   0.518779\n",
      "12  0.606074  1   1.070148\n",
      "13  0.319588  1   0.153271\n",
      "14  1.000362  1   1.495735\n",
      "15  0.199067  1   0.729036\n",
      "16  1.343291  1   1.137680\n",
      "17  0.111777  1   0.009544\n",
      "18  0.199286  1   0.033036\n",
      "19  0.439227  1   0.637613\n"
     ]
    }
   ],
   "source": [
    "df['B']=1\n",
    "print(df)\n",
    "# ustawia każdy element z kolumny 'B' na wartość 1"
   ]
  },
  {
   "cell_type": "code",
   "execution_count": null,
   "metadata": {},
   "outputs": [
    {
     "name": "stdout",
     "output_type": "stream",
     "text": [
      "           A         B          C\n",
      "id                               \n",
      "0   0.524337  0.722455   1.355453\n",
      "1   0.226458  1.067835  10.000000\n",
      "2   1.298791  0.221759   0.116218\n",
      "3   0.002620 -0.661393   0.951585\n",
      "4   1.202040 -0.042092  -1.933355\n",
      "5   0.268617  1.074074   0.238729\n",
      "6   0.509500 -0.037208   0.013675\n",
      "7   0.773762 -0.908228   0.167694\n",
      "8   0.067189 -1.092647  -1.428124\n",
      "9   1.679222  0.412397   0.430642\n",
      "10 -0.568127  0.185774  -1.798939\n",
      "11  2.142298  1.332233  -0.133946\n",
      "12 -0.186999 -0.686640   0.855313\n",
      "13  0.246298 -1.014864   0.081283\n",
      "14  0.032661 -1.420750   0.869447\n",
      "15 -2.491272  1.756565  -0.083795\n",
      "16  0.285834  2.201841  -0.064324\n",
      "17 -0.389997  1.032341   0.620837\n",
      "18 -0.711948 -1.828903  -1.232448\n",
      "19 -0.153898 -1.382548   0.160083\n"
     ]
    }
   ],
   "source": [
    "df.iloc[1,2]=10\n",
    "print(df)\n",
    "# ustawia element z wiersza 1 i kolumny 2 na wartość 10"
   ]
  },
  {
   "cell_type": "code",
   "execution_count": null,
   "metadata": {},
   "outputs": [
    {
     "name": "stdout",
     "output_type": "stream",
     "text": [
      "           A         B         C\n",
      "id                              \n",
      "0   1.321465  1.251158  0.052494\n",
      "1   1.726818  0.253601  0.572555\n",
      "2   1.070503  1.160306  0.398765\n",
      "3   1.877266  0.262126  0.415417\n",
      "4   0.043531  0.417440  0.620660\n",
      "5   1.798994  0.152201  0.646089\n",
      "6   0.458291  0.386704  1.401041\n",
      "7   1.344924  0.411838  2.265860\n",
      "8   0.619673  0.402432  1.289667\n",
      "9   0.271179  0.732317  1.567242\n",
      "10  0.208699  0.668776  0.020728\n",
      "11  0.069654  0.204618  0.666968\n",
      "12  0.283574  1.441884  0.448919\n",
      "13  0.144501  0.230444  0.288124\n",
      "14  0.694535  0.910975  0.807720\n",
      "15  0.664256  1.437569  0.147248\n",
      "16  0.791611  1.275530  0.813633\n",
      "17  0.043955  0.607023  0.837359\n",
      "18  0.227075  1.202251  0.473013\n",
      "19  0.684062  1.125052  1.460513\n"
     ]
    }
   ],
   "source": [
    "df[df<0]=-df\n",
    "print(df)\n",
    "# zamienia wszystkie ujemne elementy na dodatnie"
   ]
  },
  {
   "cell_type": "markdown",
   "metadata": {},
   "source": [
    "# Uzupełnianie danych"
   ]
  },
  {
   "cell_type": "code",
   "execution_count": 42,
   "metadata": {},
   "outputs": [
    {
     "name": "stdout",
     "output_type": "stream",
     "text": [
      "           A         B         C\n",
      "id                              \n",
      "0   0.698021       NaN  0.273551\n",
      "1   1.615637 -0.064033  0.292035\n",
      "2  -0.375468 -0.072198 -1.261293\n",
      "3  -0.105001       NaN -1.437214\n",
      "4  -0.839081  0.271706 -1.368260\n",
      "5   0.404616  0.884423  1.255653\n",
      "6  -0.035171 -0.528808  1.813648\n",
      "7  -0.498200 -0.387607 -0.497347\n",
      "8  -0.200880 -1.116605  0.225847\n",
      "9  -1.339686  3.526996  0.384164\n",
      "10  1.356386 -0.884188  0.778762\n",
      "11 -0.803298  0.990689 -0.075788\n",
      "12 -0.885019  0.387035  1.651333\n",
      "13  0.455295  1.258131 -0.874296\n",
      "14 -0.232655 -1.544953 -0.784982\n",
      "15 -0.340725 -0.385854 -0.482818\n",
      "16 -0.365916 -0.321263 -0.212684\n",
      "17 -1.058076 -1.575834 -0.223228\n",
      "18  0.322423  0.637459  1.090900\n",
      "19  0.649665  0.347963  1.348072\n"
     ]
    }
   ],
   "source": [
    "df.iloc[[0, 3], 1] = np.nan\n",
    "print(df)\n",
    "# ustawia elementy z wiersza 0 i 3 w kolumnie 1 na NaN"
   ]
  },
  {
   "cell_type": "code",
   "execution_count": 43,
   "metadata": {},
   "outputs": [
    {
     "name": "stdout",
     "output_type": "stream",
     "text": [
      "           A         B         C\n",
      "id                              \n",
      "0   0.698021  0.000000  0.273551\n",
      "1   1.615637 -0.064033  0.292035\n",
      "2  -0.375468 -0.072198 -1.261293\n",
      "3  -0.105001  0.000000 -1.437214\n",
      "4  -0.839081  0.271706 -1.368260\n",
      "5   0.404616  0.884423  1.255653\n",
      "6  -0.035171 -0.528808  1.813648\n",
      "7  -0.498200 -0.387607 -0.497347\n",
      "8  -0.200880 -1.116605  0.225847\n",
      "9  -1.339686  3.526996  0.384164\n",
      "10  1.356386 -0.884188  0.778762\n",
      "11 -0.803298  0.990689 -0.075788\n",
      "12 -0.885019  0.387035  1.651333\n",
      "13  0.455295  1.258131 -0.874296\n",
      "14 -0.232655 -1.544953 -0.784982\n",
      "15 -0.340725 -0.385854 -0.482818\n",
      "16 -0.365916 -0.321263 -0.212684\n",
      "17 -1.058076 -1.575834 -0.223228\n",
      "18  0.322423  0.637459  1.090900\n",
      "19  0.649665  0.347963  1.348072\n"
     ]
    }
   ],
   "source": [
    "df.fillna(0, inplace=True)\n",
    "print(df)\n",
    "# ustawia wszystkie NaN na 0"
   ]
  },
  {
   "cell_type": "code",
   "execution_count": 45,
   "metadata": {},
   "outputs": [
    {
     "name": "stdout",
     "output_type": "stream",
     "text": [
      "           A            B         C\n",
      "id                                 \n",
      "0   0.698021 -9999.000000  0.273551\n",
      "1   1.615637    -0.064033  0.292035\n",
      "2  -0.375468    -0.072198 -1.261293\n",
      "3  -0.105001 -9999.000000 -1.437214\n",
      "4  -0.839081     0.271706 -1.368260\n",
      "5   0.404616     0.884423  1.255653\n",
      "6  -0.035171    -0.528808  1.813648\n",
      "7  -0.498200    -0.387607 -0.497347\n",
      "8  -0.200880    -1.116605  0.225847\n",
      "9  -1.339686     3.526996  0.384164\n",
      "10  1.356386    -0.884188  0.778762\n",
      "11 -0.803298     0.990689 -0.075788\n",
      "12 -0.885019     0.387035  1.651333\n",
      "13  0.455295     1.258131 -0.874296\n",
      "14 -0.232655    -1.544953 -0.784982\n",
      "15 -0.340725    -0.385854 -0.482818\n",
      "16 -0.365916    -0.321263 -0.212684\n",
      "17 -1.058076    -1.575834 -0.223228\n",
      "18  0.322423     0.637459  1.090900\n",
      "19  0.649665     0.347963  1.348072\n"
     ]
    }
   ],
   "source": [
    "df.iloc[[0, 3], 1] = np.nan\n",
    "df=df.replace(to_replace=np.nan,value=-9999)\n",
    "print(df)\n",
    "# ustawia wszystkie NaN na -9999"
   ]
  },
  {
   "cell_type": "code",
   "execution_count": null,
   "metadata": {},
   "outputs": [
    {
     "name": "stdout",
     "output_type": "stream",
     "text": [
      "        A      B      C\n",
      "id                     \n",
      "0   False   True  False\n",
      "1   False  False  False\n",
      "2   False  False  False\n",
      "3   False   True  False\n",
      "4   False  False  False\n",
      "5   False  False  False\n",
      "6   False  False  False\n",
      "7   False  False  False\n",
      "8   False  False  False\n",
      "9   False  False  False\n",
      "10  False  False  False\n",
      "11  False  False  False\n",
      "12  False  False  False\n",
      "13  False  False  False\n",
      "14  False  False  False\n",
      "15  False  False  False\n",
      "16  False  False  False\n",
      "17  False  False  False\n",
      "18  False  False  False\n",
      "19  False  False  False\n"
     ]
    }
   ],
   "source": [
    "df.iloc[[0, 3], 1] = np.nan\n",
    "print(pd.isnull(df))\n",
    "# sprawdza czy elementy z wiersza 0 i 3 w kolumnie 1 sa NaN"
   ]
  },
  {
   "cell_type": "markdown",
   "metadata": {},
   "source": [
    "# Zadania"
   ]
  },
  {
   "cell_type": "code",
   "execution_count": 52,
   "metadata": {},
   "outputs": [],
   "source": [
    "df = pd.DataFrame({'x': [1, 2, 3, 4, 5], 'y': ['a', 'b', 'a', 'b', 'b']})"
   ]
  },
  {
   "cell_type": "markdown",
   "metadata": {},
   "source": [
    "### Zadanie 1"
   ]
  },
  {
   "cell_type": "code",
   "execution_count": null,
   "metadata": {},
   "outputs": [
    {
     "name": "stdout",
     "output_type": "stream",
     "text": [
      "y\n",
      "a    2.000000\n",
      "b    3.666667\n",
      "Name: x, dtype: float64\n"
     ]
    }
   ],
   "source": [
    "group = df.groupby('y')\n",
    "print(group['x'].mean())"
   ]
  },
  {
   "cell_type": "markdown",
   "metadata": {},
   "source": [
    "### Zadanie 2"
   ]
  },
  {
   "cell_type": "code",
   "execution_count": 51,
   "metadata": {},
   "outputs": [
    {
     "name": "stdout",
     "output_type": "stream",
     "text": [
      "y\n",
      "b    0.6\n",
      "a    0.4\n",
      "Name: proportion, dtype: float64\n"
     ]
    }
   ],
   "source": [
    "print(df['y'].value_counts(normalize=True))"
   ]
  },
  {
   "cell_type": "markdown",
   "metadata": {},
   "source": [
    "### Zadanie 3"
   ]
  },
  {
   "cell_type": "code",
   "execution_count": 6,
   "metadata": {},
   "outputs": [
    {
     "data": {
      "text/plain": [
       "array([['', 'normalized-losses', 'make', ..., 'highway-mpg', 'price',\n",
       "        'symboling'],\n",
       "       ['0', '', 'alfa-romero', ..., '27.0', '13495.0', '3'],\n",
       "       ['1', '', 'alfa-romero', ..., '27.0', '16500.0', '3'],\n",
       "       ...,\n",
       "       ['202', '95.0', 'volvo', ..., '23.0', '21485.0', '-1'],\n",
       "       ['203', '95.0', 'volvo', ..., '27.0', '22470.0', '-1'],\n",
       "       ['204', '95.0', 'volvo', ..., '25.0', '22625.0', '-1']],\n",
       "      shape=(206, 27), dtype='<U17')"
      ]
     },
     "metadata": {},
     "output_type": "display_data"
    }
   ],
   "source": [
    "data_np = np.loadtxt('autos.csv', dtype=str, delimiter=\",\")\n",
    "display(data_np)"
   ]
  },
  {
   "cell_type": "code",
   "execution_count": 19,
   "metadata": {},
   "outputs": [
    {
     "data": {
      "text/html": [
       "<div>\n",
       "<style scoped>\n",
       "    .dataframe tbody tr th:only-of-type {\n",
       "        vertical-align: middle;\n",
       "    }\n",
       "\n",
       "    .dataframe tbody tr th {\n",
       "        vertical-align: top;\n",
       "    }\n",
       "\n",
       "    .dataframe thead th {\n",
       "        text-align: right;\n",
       "    }\n",
       "</style>\n",
       "<table border=\"1\" class=\"dataframe\">\n",
       "  <thead>\n",
       "    <tr style=\"text-align: right;\">\n",
       "      <th></th>\n",
       "      <th>Unnamed: 0</th>\n",
       "      <th>normalized-losses</th>\n",
       "      <th>make</th>\n",
       "      <th>fuel-type</th>\n",
       "      <th>aspiration</th>\n",
       "      <th>num-of-doors</th>\n",
       "      <th>body-style</th>\n",
       "      <th>drive-wheels</th>\n",
       "      <th>engine-location</th>\n",
       "      <th>wheel-base</th>\n",
       "      <th>...</th>\n",
       "      <th>fuel-system</th>\n",
       "      <th>bore</th>\n",
       "      <th>stroke</th>\n",
       "      <th>compression-ratio</th>\n",
       "      <th>horsepower</th>\n",
       "      <th>peak-rpm</th>\n",
       "      <th>city-mpg</th>\n",
       "      <th>highway-mpg</th>\n",
       "      <th>price</th>\n",
       "      <th>symboling</th>\n",
       "    </tr>\n",
       "  </thead>\n",
       "  <tbody>\n",
       "    <tr>\n",
       "      <th>0</th>\n",
       "      <td>0</td>\n",
       "      <td>NaN</td>\n",
       "      <td>alfa-romero</td>\n",
       "      <td>gas</td>\n",
       "      <td>std</td>\n",
       "      <td>two</td>\n",
       "      <td>convertible</td>\n",
       "      <td>rwd</td>\n",
       "      <td>front</td>\n",
       "      <td>88.6</td>\n",
       "      <td>...</td>\n",
       "      <td>mpfi</td>\n",
       "      <td>3.47</td>\n",
       "      <td>2.68</td>\n",
       "      <td>9.0</td>\n",
       "      <td>111.0</td>\n",
       "      <td>5000.0</td>\n",
       "      <td>21.0</td>\n",
       "      <td>27.0</td>\n",
       "      <td>13495.0</td>\n",
       "      <td>3</td>\n",
       "    </tr>\n",
       "    <tr>\n",
       "      <th>1</th>\n",
       "      <td>1</td>\n",
       "      <td>NaN</td>\n",
       "      <td>alfa-romero</td>\n",
       "      <td>gas</td>\n",
       "      <td>std</td>\n",
       "      <td>two</td>\n",
       "      <td>convertible</td>\n",
       "      <td>rwd</td>\n",
       "      <td>front</td>\n",
       "      <td>88.6</td>\n",
       "      <td>...</td>\n",
       "      <td>mpfi</td>\n",
       "      <td>3.47</td>\n",
       "      <td>2.68</td>\n",
       "      <td>9.0</td>\n",
       "      <td>111.0</td>\n",
       "      <td>5000.0</td>\n",
       "      <td>21.0</td>\n",
       "      <td>27.0</td>\n",
       "      <td>16500.0</td>\n",
       "      <td>3</td>\n",
       "    </tr>\n",
       "    <tr>\n",
       "      <th>2</th>\n",
       "      <td>2</td>\n",
       "      <td>NaN</td>\n",
       "      <td>alfa-romero</td>\n",
       "      <td>gas</td>\n",
       "      <td>std</td>\n",
       "      <td>two</td>\n",
       "      <td>hatchback</td>\n",
       "      <td>rwd</td>\n",
       "      <td>front</td>\n",
       "      <td>94.5</td>\n",
       "      <td>...</td>\n",
       "      <td>mpfi</td>\n",
       "      <td>2.68</td>\n",
       "      <td>3.47</td>\n",
       "      <td>9.0</td>\n",
       "      <td>154.0</td>\n",
       "      <td>5000.0</td>\n",
       "      <td>19.0</td>\n",
       "      <td>26.0</td>\n",
       "      <td>16500.0</td>\n",
       "      <td>1</td>\n",
       "    </tr>\n",
       "    <tr>\n",
       "      <th>3</th>\n",
       "      <td>3</td>\n",
       "      <td>164.0</td>\n",
       "      <td>audi</td>\n",
       "      <td>gas</td>\n",
       "      <td>std</td>\n",
       "      <td>four</td>\n",
       "      <td>sedan</td>\n",
       "      <td>fwd</td>\n",
       "      <td>front</td>\n",
       "      <td>99.8</td>\n",
       "      <td>...</td>\n",
       "      <td>mpfi</td>\n",
       "      <td>3.19</td>\n",
       "      <td>3.40</td>\n",
       "      <td>10.0</td>\n",
       "      <td>102.0</td>\n",
       "      <td>5500.0</td>\n",
       "      <td>24.0</td>\n",
       "      <td>30.0</td>\n",
       "      <td>13950.0</td>\n",
       "      <td>2</td>\n",
       "    </tr>\n",
       "    <tr>\n",
       "      <th>4</th>\n",
       "      <td>4</td>\n",
       "      <td>164.0</td>\n",
       "      <td>audi</td>\n",
       "      <td>gas</td>\n",
       "      <td>std</td>\n",
       "      <td>four</td>\n",
       "      <td>sedan</td>\n",
       "      <td>4wd</td>\n",
       "      <td>front</td>\n",
       "      <td>99.4</td>\n",
       "      <td>...</td>\n",
       "      <td>mpfi</td>\n",
       "      <td>3.19</td>\n",
       "      <td>3.40</td>\n",
       "      <td>8.0</td>\n",
       "      <td>115.0</td>\n",
       "      <td>5500.0</td>\n",
       "      <td>18.0</td>\n",
       "      <td>22.0</td>\n",
       "      <td>17450.0</td>\n",
       "      <td>2</td>\n",
       "    </tr>\n",
       "    <tr>\n",
       "      <th>...</th>\n",
       "      <td>...</td>\n",
       "      <td>...</td>\n",
       "      <td>...</td>\n",
       "      <td>...</td>\n",
       "      <td>...</td>\n",
       "      <td>...</td>\n",
       "      <td>...</td>\n",
       "      <td>...</td>\n",
       "      <td>...</td>\n",
       "      <td>...</td>\n",
       "      <td>...</td>\n",
       "      <td>...</td>\n",
       "      <td>...</td>\n",
       "      <td>...</td>\n",
       "      <td>...</td>\n",
       "      <td>...</td>\n",
       "      <td>...</td>\n",
       "      <td>...</td>\n",
       "      <td>...</td>\n",
       "      <td>...</td>\n",
       "      <td>...</td>\n",
       "    </tr>\n",
       "    <tr>\n",
       "      <th>200</th>\n",
       "      <td>200</td>\n",
       "      <td>95.0</td>\n",
       "      <td>volvo</td>\n",
       "      <td>gas</td>\n",
       "      <td>std</td>\n",
       "      <td>four</td>\n",
       "      <td>sedan</td>\n",
       "      <td>rwd</td>\n",
       "      <td>front</td>\n",
       "      <td>109.1</td>\n",
       "      <td>...</td>\n",
       "      <td>mpfi</td>\n",
       "      <td>3.78</td>\n",
       "      <td>3.15</td>\n",
       "      <td>9.5</td>\n",
       "      <td>114.0</td>\n",
       "      <td>5400.0</td>\n",
       "      <td>23.0</td>\n",
       "      <td>28.0</td>\n",
       "      <td>16845.0</td>\n",
       "      <td>-1</td>\n",
       "    </tr>\n",
       "    <tr>\n",
       "      <th>201</th>\n",
       "      <td>201</td>\n",
       "      <td>95.0</td>\n",
       "      <td>volvo</td>\n",
       "      <td>gas</td>\n",
       "      <td>turbo</td>\n",
       "      <td>four</td>\n",
       "      <td>sedan</td>\n",
       "      <td>rwd</td>\n",
       "      <td>front</td>\n",
       "      <td>109.1</td>\n",
       "      <td>...</td>\n",
       "      <td>mpfi</td>\n",
       "      <td>3.78</td>\n",
       "      <td>3.15</td>\n",
       "      <td>8.7</td>\n",
       "      <td>160.0</td>\n",
       "      <td>5300.0</td>\n",
       "      <td>19.0</td>\n",
       "      <td>25.0</td>\n",
       "      <td>19045.0</td>\n",
       "      <td>-1</td>\n",
       "    </tr>\n",
       "    <tr>\n",
       "      <th>202</th>\n",
       "      <td>202</td>\n",
       "      <td>95.0</td>\n",
       "      <td>volvo</td>\n",
       "      <td>gas</td>\n",
       "      <td>std</td>\n",
       "      <td>four</td>\n",
       "      <td>sedan</td>\n",
       "      <td>rwd</td>\n",
       "      <td>front</td>\n",
       "      <td>109.1</td>\n",
       "      <td>...</td>\n",
       "      <td>mpfi</td>\n",
       "      <td>3.58</td>\n",
       "      <td>2.87</td>\n",
       "      <td>8.8</td>\n",
       "      <td>134.0</td>\n",
       "      <td>5500.0</td>\n",
       "      <td>18.0</td>\n",
       "      <td>23.0</td>\n",
       "      <td>21485.0</td>\n",
       "      <td>-1</td>\n",
       "    </tr>\n",
       "    <tr>\n",
       "      <th>203</th>\n",
       "      <td>203</td>\n",
       "      <td>95.0</td>\n",
       "      <td>volvo</td>\n",
       "      <td>diesel</td>\n",
       "      <td>turbo</td>\n",
       "      <td>four</td>\n",
       "      <td>sedan</td>\n",
       "      <td>rwd</td>\n",
       "      <td>front</td>\n",
       "      <td>109.1</td>\n",
       "      <td>...</td>\n",
       "      <td>idi</td>\n",
       "      <td>3.01</td>\n",
       "      <td>3.40</td>\n",
       "      <td>23.0</td>\n",
       "      <td>106.0</td>\n",
       "      <td>4800.0</td>\n",
       "      <td>26.0</td>\n",
       "      <td>27.0</td>\n",
       "      <td>22470.0</td>\n",
       "      <td>-1</td>\n",
       "    </tr>\n",
       "    <tr>\n",
       "      <th>204</th>\n",
       "      <td>204</td>\n",
       "      <td>95.0</td>\n",
       "      <td>volvo</td>\n",
       "      <td>gas</td>\n",
       "      <td>turbo</td>\n",
       "      <td>four</td>\n",
       "      <td>sedan</td>\n",
       "      <td>rwd</td>\n",
       "      <td>front</td>\n",
       "      <td>109.1</td>\n",
       "      <td>...</td>\n",
       "      <td>mpfi</td>\n",
       "      <td>3.78</td>\n",
       "      <td>3.15</td>\n",
       "      <td>9.5</td>\n",
       "      <td>114.0</td>\n",
       "      <td>5400.0</td>\n",
       "      <td>19.0</td>\n",
       "      <td>25.0</td>\n",
       "      <td>22625.0</td>\n",
       "      <td>-1</td>\n",
       "    </tr>\n",
       "  </tbody>\n",
       "</table>\n",
       "<p>205 rows × 27 columns</p>\n",
       "</div>"
      ],
      "text/plain": [
       "     Unnamed: 0  normalized-losses         make fuel-type aspiration  \\\n",
       "0             0                NaN  alfa-romero       gas        std   \n",
       "1             1                NaN  alfa-romero       gas        std   \n",
       "2             2                NaN  alfa-romero       gas        std   \n",
       "3             3              164.0         audi       gas        std   \n",
       "4             4              164.0         audi       gas        std   \n",
       "..          ...                ...          ...       ...        ...   \n",
       "200         200               95.0        volvo       gas        std   \n",
       "201         201               95.0        volvo       gas      turbo   \n",
       "202         202               95.0        volvo       gas        std   \n",
       "203         203               95.0        volvo    diesel      turbo   \n",
       "204         204               95.0        volvo       gas      turbo   \n",
       "\n",
       "    num-of-doors   body-style drive-wheels engine-location  wheel-base  ...  \\\n",
       "0            two  convertible          rwd           front        88.6  ...   \n",
       "1            two  convertible          rwd           front        88.6  ...   \n",
       "2            two    hatchback          rwd           front        94.5  ...   \n",
       "3           four        sedan          fwd           front        99.8  ...   \n",
       "4           four        sedan          4wd           front        99.4  ...   \n",
       "..           ...          ...          ...             ...         ...  ...   \n",
       "200         four        sedan          rwd           front       109.1  ...   \n",
       "201         four        sedan          rwd           front       109.1  ...   \n",
       "202         four        sedan          rwd           front       109.1  ...   \n",
       "203         four        sedan          rwd           front       109.1  ...   \n",
       "204         four        sedan          rwd           front       109.1  ...   \n",
       "\n",
       "     fuel-system  bore  stroke  compression-ratio horsepower peak-rpm  \\\n",
       "0           mpfi  3.47    2.68                9.0      111.0   5000.0   \n",
       "1           mpfi  3.47    2.68                9.0      111.0   5000.0   \n",
       "2           mpfi  2.68    3.47                9.0      154.0   5000.0   \n",
       "3           mpfi  3.19    3.40               10.0      102.0   5500.0   \n",
       "4           mpfi  3.19    3.40                8.0      115.0   5500.0   \n",
       "..           ...   ...     ...                ...        ...      ...   \n",
       "200         mpfi  3.78    3.15                9.5      114.0   5400.0   \n",
       "201         mpfi  3.78    3.15                8.7      160.0   5300.0   \n",
       "202         mpfi  3.58    2.87                8.8      134.0   5500.0   \n",
       "203          idi  3.01    3.40               23.0      106.0   4800.0   \n",
       "204         mpfi  3.78    3.15                9.5      114.0   5400.0   \n",
       "\n",
       "     city-mpg highway-mpg    price  symboling  \n",
       "0        21.0        27.0  13495.0          3  \n",
       "1        21.0        27.0  16500.0          3  \n",
       "2        19.0        26.0  16500.0          1  \n",
       "3        24.0        30.0  13950.0          2  \n",
       "4        18.0        22.0  17450.0          2  \n",
       "..        ...         ...      ...        ...  \n",
       "200      23.0        28.0  16845.0         -1  \n",
       "201      19.0        25.0  19045.0         -1  \n",
       "202      18.0        23.0  21485.0         -1  \n",
       "203      26.0        27.0  22470.0         -1  \n",
       "204      19.0        25.0  22625.0         -1  \n",
       "\n",
       "[205 rows x 27 columns]"
      ]
     },
     "metadata": {},
     "output_type": "display_data"
    }
   ],
   "source": [
    "data_pd = pd.read_csv('autos.csv')\n",
    "display(data_pd)\n",
    "data = data_pd"
   ]
  },
  {
   "cell_type": "markdown",
   "metadata": {},
   "source": [
    "> #### Różnice \n",
    "##### np.loadtxt:\n",
    "* czyta pliki do listy\n",
    "* wymaga specyfikowania delimetru (tutaj przecinek)\n",
    "\n",
    "##### pd.read_csv:\n",
    "* czyta pliki do DataFrame\n",
    "* automatycznie szuka delimetru\n"
   ]
  },
  {
   "cell_type": "markdown",
   "metadata": {},
   "source": [
    "### Zadanie 4"
   ]
  },
  {
   "cell_type": "code",
   "execution_count": null,
   "metadata": {},
   "outputs": [
    {
     "name": "stdout",
     "output_type": "stream",
     "text": [
      "                city-mpg  highway-mpg\n",
      "make                                 \n",
      "alfa-romero    20.333333    26.666667\n",
      "audi           18.857143    24.142857\n",
      "bmw            19.375000    25.375000\n",
      "chevrolet      41.000000    46.333333\n",
      "dodge          28.000000    34.111111\n",
      "honda          30.384615    35.461538\n",
      "isuzu          31.000000    36.000000\n",
      "jaguar         14.333333    18.333333\n",
      "mazda          25.705882    31.941176\n",
      "mercedes-benz  18.500000    21.000000\n",
      "mercury        19.000000    24.000000\n",
      "mitsubishi     24.923077    31.153846\n",
      "nissan         27.000000    32.944444\n",
      "peugot         22.454545    26.636364\n",
      "plymouth       28.142857    34.142857\n",
      "porsche        17.400000    26.000000\n",
      "renault        23.000000    31.000000\n",
      "saa            20.333333    27.333333\n",
      "subaru         26.333333    30.750000\n",
      "toyota         27.500000    32.906250\n",
      "volkswagen     28.583333    34.916667\n",
      "volvo          21.181818    25.818182\n"
     ]
    }
   ],
   "source": [
    "group = data_pd.groupby('make')\n",
    "print(group[['city-mpg', 'highway-mpg']].mean())"
   ]
  },
  {
   "cell_type": "markdown",
   "metadata": {},
   "source": [
    "### Zadanie 5"
   ]
  },
  {
   "cell_type": "code",
   "execution_count": 14,
   "metadata": {},
   "outputs": [
    {
     "name": "stdout",
     "output_type": "stream",
     "text": [
      "make           fuel-type\n",
      "alfa-romero    gas           3\n",
      "audi           gas           7\n",
      "bmw            gas           8\n",
      "chevrolet      gas           3\n",
      "dodge          gas           9\n",
      "honda          gas          13\n",
      "isuzu          gas           4\n",
      "jaguar         gas           3\n",
      "mazda          gas          15\n",
      "               diesel        2\n",
      "mercedes-benz  diesel        4\n",
      "               gas           4\n",
      "mercury        gas           1\n",
      "mitsubishi     gas          13\n",
      "nissan         gas          17\n",
      "               diesel        1\n",
      "peugot         gas           6\n",
      "               diesel        5\n",
      "plymouth       gas           7\n",
      "porsche        gas           5\n",
      "renault        gas           2\n",
      "saa            gas           6\n",
      "subaru         gas          12\n",
      "toyota         gas          29\n",
      "               diesel        3\n",
      "volkswagen     gas           8\n",
      "               diesel        4\n",
      "volvo          gas          10\n",
      "               diesel        1\n",
      "Name: count, dtype: int64\n"
     ]
    }
   ],
   "source": [
    "print(group['fuel-type'].value_counts())"
   ]
  },
  {
   "cell_type": "markdown",
   "metadata": {},
   "source": [
    "### Zadanie 6"
   ]
  },
  {
   "cell_type": "code",
   "execution_count": 16,
   "metadata": {},
   "outputs": [
    {
     "name": "stdout",
     "output_type": "stream",
     "text": [
      "[-0.35576533 87.14020723]\n",
      "[ 4.39610791e-03 -1.89441985e+00  2.21104093e+02]\n"
     ]
    }
   ],
   "source": [
    "p1 = np.polyfit(data['length'], data['city-mpg'], 1)\n",
    "print(p1)\n",
    "p2 = np.polyfit(data['length'], data['city-mpg'], 2)\n",
    "print(p2)"
   ]
  },
  {
   "cell_type": "markdown",
   "metadata": {},
   "source": [
    "### Zadanie 7"
   ]
  },
  {
   "cell_type": "code",
   "execution_count": 6,
   "metadata": {},
   "outputs": [
    {
     "name": "stdout",
     "output_type": "stream",
     "text": [
      "PearsonRResult(statistic=np.float64(-0.6709086615585711), pvalue=np.float64(3.595528842225762e-28))\n"
     ]
    }
   ],
   "source": [
    "import scipy.stats\n",
    "\n",
    "p_value = scipy.stats.pearsonr(data['length'], data['city-mpg'])\n",
    "print(p_value)"
   ]
  },
  {
   "cell_type": "markdown",
   "metadata": {},
   "source": [
    "### Zadanie 8"
   ]
  },
  {
   "cell_type": "code",
   "execution_count": 56,
   "metadata": {},
   "outputs": [
    {
     "data": {
      "image/png": "[encoded data removed]",
      "text/plain": [
       "<Figure size 640x480 with 1 Axes>"
      ]
     },
     "metadata": {},
     "output_type": "display_data"
    }
   ],
   "source": [
    "import matplotlib.pyplot as plt\n",
    "\n",
    "x = data['length']\n",
    "y = data['city-mpg']\n",
    "\n",
    "p1 = np.polyfit(x, y, 1)\n",
    "p2 = np.polyfit(x, y, 2)\n",
    "\n",
    "plt.scatter(x, y)\n",
    "\n",
    "x1 = np.linspace(x.min(), x.max(), 50)\n",
    "y1 = np.polyval(p1, x1)\n",
    "plt.plot(x1, y1, color='red')\n",
    "\n",
    "y2 = np.polyval(p2, x1)\n",
    "plt.plot(x1, y2)\n",
    "\n",
    "plt.xlabel('Length')\n",
    "plt.ylabel('city-mpg')\n",
    "plt.show()"
   ]
  },
  {
   "cell_type": "markdown",
   "metadata": {},
   "source": [
    "### Zadanie 9"
   ]
  },
  {
   "cell_type": "code",
   "execution_count": 57,
   "metadata": {},
   "outputs": [
    {
     "data": {
      "image/png": "[encoded data removed]",
      "text/plain": [
       "<Figure size 800x500 with 1 Axes>"
      ]
     },
     "metadata": {},
     "output_type": "display_data"
    }
   ],
   "source": [
    "data_length = data['length']\n",
    "kde = scipy.stats.gaussian_kde(data_length)\n",
    "x = np.linspace(min(data_length), max(data_length), 100)\n",
    "y = kde(x)\n",
    "\n",
    "plt.figure(figsize=(8, 5))\n",
    "plt.plot(x, y, label=\"funkcja gęstości\", color=\"blue\")\n",
    "plt.hist(data_length, bins=50, density=True, alpha=1, color=\"gray\", label=\"próbki\")\n",
    "plt.xlabel(\"Length\")\n",
    "plt.ylabel(\"Gęstość\")\n",
    "plt.title(\"KDE\")\n",
    "plt.legend()\n",
    "plt.grid()"
   ]
  },
  {
   "cell_type": "markdown",
   "metadata": {},
   "source": [
    "### Zadanie 10"
   ]
  },
  {
   "cell_type": "code",
   "execution_count": 58,
   "metadata": {},
   "outputs": [
    {
     "data": {
      "image/png": "[encoded data removed]",
      "text/plain": [
       "<Figure size 800x500 with 2 Axes>"
      ]
     },
     "metadata": {},
     "output_type": "display_data"
    }
   ],
   "source": [
    "data_width = data['width']\n",
    "kde_length = scipy.stats.gaussian_kde(data_width)\n",
    "\n",
    "x_width = np.linspace(min(data_width), max(data_width), 100)\n",
    "y_width = kde_length(x_width)\n",
    "\n",
    "fig, ax = plt.subplots(1, 2, figsize=(8, 5))\n",
    "\n",
    "ax[0].plot(x, y, label=\"funkcja gęstości\", color=\"blue\")\n",
    "ax[0].hist(data_length, bins=50, density=True, alpha=1, color=\"gray\", label=\"próbki\")\n",
    "ax[0].set_xlabel(\"Length\")\n",
    "ax[0].set_ylabel(\"Gęstość\")\n",
    "ax[0].set_title(\"KDE\")\n",
    "ax[0].legend()\n",
    "ax[0].grid()\n",
    "\n",
    "ax[1].plot(x_width, y_width, label=\"funkcja gęstości\", color=\"blue\")\n",
    "ax[1].hist(data_width, bins=50, density=True, alpha=1, color=\"gray\", label=\"próbki\")\n",
    "ax[1].set_xlabel(\"Width\")\n",
    "ax[1].set_ylabel(\"Gęstość\")\n",
    "ax[1].set_title(\"KDE\")\n",
    "ax[1].legend()\n",
    "ax[1].grid()"
   ]
  },
  {
   "cell_type": "markdown",
   "metadata": {},
   "source": [
    "### Zadanie 11"
   ]
  },
  {
   "cell_type": "code",
   "execution_count": 59,
   "metadata": {},
   "outputs": [
    {
     "name": "stderr",
     "output_type": "stream",
     "text": [
      "C:\\Users\\Andrzej\\AppData\\Local\\Temp\\ipykernel_11992\\955505149.py:19: UserWarning: No artists with labels found to put in legend.  Note that artists whose label start with an underscore are ignored when legend() is called with no argument.\n",
      "  ax.legend()\n"
     ]
    },
    {
     "data": {
      "image/png": "[encoded data removed]",
      "text/plain": [
       "<Figure size 800x500 with 1 Axes>"
      ]
     },
     "metadata": {},
     "output_type": "display_data"
    }
   ],
   "source": [
    "data_length = data['length']\n",
    "data_width = data['width']\n",
    "\n",
    "vstack = np.vstack((data_length, data_width))\n",
    "\n",
    "kde = scipy.stats.gaussian_kde(vstack)\n",
    "\n",
    "x = np.linspace(min(data_length), max(data_length), 100)\n",
    "y = np.linspace(min(data_width), max(data_width), 100)\n",
    "\n",
    "X, Y = np.meshgrid(x, y)\n",
    "\n",
    "Z = kde(np.vstack((X.ravel(), Y.ravel()))).reshape(X.shape)\n",
    "\n",
    "fig, ax = plt.subplots(figsize=(8, 5))\n",
    "\n",
    "ax.plot(data_length, data_width, 'k.')\n",
    "ax.contour(X, Y, Z)\n",
    "ax.legend()\n",
    "plt.savefig(\"plik.pdf\")\n",
    "plt.savefig(\"plik.png\")"
   ]
  }
 ],
 "metadata": {
  "kernelspec": {
   "display_name": "Python 3",
   "language": "python",
   "name": "python3"
  },
  "language_info": {
   "codemirror_mode": {
    "name": "ipython",
    "version": 3
   },
   "file_extension": ".py",
   "mimetype": "text/x-python",
   "name": "python",
   "nbconvert_exporter": "python",
   "pygments_lexer": "ipython3",
   "version": "3.12.9"
  }
 },
 "nbformat": 4,
 "nbformat_minor": 2
}
